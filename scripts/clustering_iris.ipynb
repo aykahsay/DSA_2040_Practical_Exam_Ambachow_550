{
 "cells": [
  {
   "cell_type": "markdown",
   "id": "2c0e78a4",
   "metadata": {},
   "source": [
    "### Load Libraries & Dataset"
   ]
  },
  {
   "cell_type": "markdown",
   "id": "02072ab6",
   "metadata": {},
   "source": [
    "#### Import Libraries"
   ]
  },
  {
   "cell_type": "code",
   "execution_count": 1,
   "id": "85d07613",
   "metadata": {},
   "outputs": [],
   "source": [
    "\n",
    "import pandas as pd\n",
    "import numpy as np\n",
    "import matplotlib.pyplot as plt\n",
    "import seaborn as sns\n",
    "from sklearn.preprocessing import StandardScaler\n",
    "from sklearn.cluster import KMeans\n",
    "from sklearn.tree import DecisionTreeClassifier, plot_tree\n",
    "from mlxtend.frequent_patterns import apriori, association_rules\n",
    "from sqlalchemy import create_engine"
   ]
  },
  {
   "cell_type": "markdown",
   "id": "7243006d",
   "metadata": {},
   "source": [
    "### Download dataset (iris)"
   ]
  }
 ],
 "metadata": {
  "kernelspec": {
   "display_name": "Python 3",
   "language": "python",
   "name": "python3"
  },
  "language_info": {
   "codemirror_mode": {
    "name": "ipython",
    "version": 3
   },
   "file_extension": ".py",
   "mimetype": "text/x-python",
   "name": "python",
   "nbconvert_exporter": "python",
   "pygments_lexer": "ipython3",
   "version": "3.12.3"
  }
 },
 "nbformat": 4,
 "nbformat_minor": 5
}
