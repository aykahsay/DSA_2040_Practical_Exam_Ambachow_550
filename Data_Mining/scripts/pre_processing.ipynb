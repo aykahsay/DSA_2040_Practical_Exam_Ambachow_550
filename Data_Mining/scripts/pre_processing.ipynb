{
 "cells": [
  {
   "cell_type": "markdown",
   "id": "0d37a1c2",
   "metadata": {},
   "source": [
    "## Import Libraries and Datasets"
   ]
  },
  {
   "cell_type": "code",
   "execution_count": null,
   "id": "c84e4ea0",
   "metadata": {},
   "outputs": [],
   "source": [
    "# Import libraries\n",
    "import pandas as pd\n",
    "import numpy as np\n",
    "import matplotlib.pyplot as plt\n",
    "import seaborn as sns\n",
    "from sklearn.preprocessing import StandardScaler\n",
    "from sklearn.cluster import KMeans\n",
    "from sklearn.tree import DecisionTreeClassifier, plot_tree\n",
    "from mlxtend.frequent_patterns import apriori, association_rules\n",
    "from sqlalchemy import create_engine\n",
    "from sklearn.datasets import load_iris\n"
   ]
  },
  {
   "cell_type": "markdown",
   "id": "cc22e4c3",
   "metadata": {},
   "source": [
    "### Download Iris data set"
   ]
  },
  {
   "cell_type": "code",
   "execution_count": 2,
   "id": "173ea921",
   "metadata": {},
   "outputs": [],
   "source": [
    "from sklearn.datasets import load_iris\n",
    "import pandas as pd\n",
    "\n",
    "iris = load_iris(as_frame=True)\n",
    "iris_df = pd.concat([iris.data, pd.Series(iris.target, name='species')], axis=1)\n",
    "iris_df.to_csv(r'C:\\Users\\Admin\\OneDrive - United States International University (USIU)\\Documents\\USIU_A\\US2025\\DSA2040A\\Final Exam\\DSA_2040_Practical_Exam_Ambachow_550\\Data_Mining\\data\\iris_raw.csv', index=False)  # saves to your current folder\n",
    "#iris_df.to_csv(r'C:\\Users\\Admin\\OneDrive - United States International University (USIU)\\Documents\\USIU_A\\US2025\\DSA2040A\\Final Exam\\DSA_2040_Practical_Exam_Ambachow_550\\data\\datairis_raw.csv', index=False)\n"
   ]
  }
 ],
 "metadata": {
  "kernelspec": {
   "display_name": "Python 3",
   "language": "python",
   "name": "python3"
  },
  "language_info": {
   "codemirror_mode": {
    "name": "ipython",
    "version": 3
   },
   "file_extension": ".py",
   "mimetype": "text/x-python",
   "name": "python",
   "nbconvert_exporter": "python",
   "pygments_lexer": "ipython3",
   "version": "3.12.3"
  }
 },
 "nbformat": 4,
 "nbformat_minor": 5
}
