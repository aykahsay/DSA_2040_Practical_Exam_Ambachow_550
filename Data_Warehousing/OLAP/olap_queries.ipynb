{
 "cells": [
  {
   "cell_type": "code",
   "execution_count": 13,
   "id": "9e34641b",
   "metadata": {},
   "outputs": [],
   "source": [
    "import sqlite3\n",
    "import pandas as pd\n",
    "\n",
    "db_path = r\"C:\\Users\\Admin\\OneDrive - United States International University (USIU)\\Documents\\USIU_A\\US2025\\DSA2040A\\Final Exam\\DSA_2040_Practical_Exam_Ambachow_550\\Data_Warehousing\\design\\retail_dw.db\"\n"
   ]
  },
  {
   "cell_type": "markdown",
   "id": "2b8cb46b",
   "metadata": {},
   "source": [
    "### Columns"
   ]
  },
  {
   "cell_type": "code",
   "execution_count": 15,
   "id": "59128101",
   "metadata": {},
   "outputs": [
    {
     "name": "stdout",
     "output_type": "stream",
     "text": [
      "[('CustomerDim',), ('ProductDim',), ('TimeDim',), ('sqlite_sequence',), ('SalesFact',)]\n"
     ]
    }
   ],
   "source": [
    "conn = sqlite3.connect(db_path)\n",
    "cursor = conn.cursor()\n",
    "\n",
    "cursor.execute(\"SELECT name FROM sqlite_master WHERE type='table';\")\n",
    "print(cursor.fetchall())\n",
    "\n",
    "conn.close()\n"
   ]
  },
  {
   "cell_type": "markdown",
   "id": "753c771d",
   "metadata": {},
   "source": [
    "### Columns of SalesFact Table"
   ]
  },
  {
   "cell_type": "code",
   "execution_count": 14,
   "id": "71238a42",
   "metadata": {},
   "outputs": [
    {
     "name": "stdout",
     "output_type": "stream",
     "text": [
      "(0, 'Description', 'TEXT', 0, None, 0)\n",
      "(1, 'Quantity', 'INTEGER', 0, None, 0)\n",
      "(2, 'InvoiceDate', 'TIMESTAMP', 0, None, 0)\n",
      "(3, 'UnitPrice', 'REAL', 0, None, 0)\n",
      "(4, 'CustomerID', 'TEXT', 0, None, 0)\n",
      "(5, 'Country', 'TEXT', 0, None, 0)\n",
      "(6, 'InvoiceYear', 'INTEGER', 0, None, 0)\n",
      "(7, 'InvoiceMonth', 'INTEGER', 0, None, 0)\n",
      "(8, 'InvoiceDay', 'INTEGER', 0, None, 0)\n",
      "(9, 'InvoiceQuarter', 'INTEGER', 0, None, 0)\n"
     ]
    }
   ],
   "source": [
    "conn = sqlite3.connect(db_path)\n",
    "cursor = conn.cursor()\n",
    "\n",
    "cursor.execute(\"PRAGMA table_info(SalesFact);\")\n",
    "columns = cursor.fetchall()\n",
    "for col in columns:\n",
    "    print(col)\n",
    "\n",
    "conn.close()\n"
   ]
  },
  {
   "cell_type": "code",
   "execution_count": 16,
   "id": "5aeea199",
   "metadata": {},
   "outputs": [
    {
     "name": "stdout",
     "output_type": "stream",
     "text": [
      "(0, 'CustomerID', 'INTEGER', 0, None, 1)\n",
      "(1, 'CustomerName', 'TEXT', 0, None, 0)\n",
      "(2, 'Location', 'TEXT', 0, None, 0)\n",
      "(3, 'Country', 'TEXT', 0, None, 0)\n"
     ]
    }
   ],
   "source": [
    "conn = sqlite3.connect(db_path)\n",
    "cursor = conn.cursor()\n",
    "\n",
    "cursor.execute(\"PRAGMA table_info(CustomerDim);\")\n",
    "columns = cursor.fetchall()\n",
    "for col in columns:\n",
    "    print(col)\n",
    "\n",
    "conn.close()\n"
   ]
  },
  {
   "cell_type": "code",
   "execution_count": 17,
   "id": "6febc2eb",
   "metadata": {},
   "outputs": [
    {
     "name": "stdout",
     "output_type": "stream",
     "text": [
      "(0, 'ProductID', 'TEXT', 0, None, 1)\n",
      "(1, 'ProductName', 'TEXT', 0, None, 0)\n",
      "(2, 'Category', 'TEXT', 0, None, 0)\n"
     ]
    }
   ],
   "source": [
    "conn = sqlite3.connect(db_path)\n",
    "cursor = conn.cursor()\n",
    "\n",
    "cursor.execute(\"PRAGMA table_info(ProductDim);\")\n",
    "columns = cursor.fetchall()\n",
    "for col in columns:\n",
    "    print(col)\n",
    "\n",
    "conn.close()\n"
   ]
  },
  {
   "cell_type": "code",
   "execution_count": 18,
   "id": "f7a5ab0b",
   "metadata": {},
   "outputs": [
    {
     "name": "stdout",
     "output_type": "stream",
     "text": [
      "(0, 'TimeID', 'INTEGER', 0, None, 1)\n",
      "(1, 'Date', 'TEXT', 0, None, 0)\n",
      "(2, 'Month', 'INTEGER', 0, None, 0)\n",
      "(3, 'Quarter', 'INTEGER', 0, None, 0)\n",
      "(4, 'Year', 'INTEGER', 0, None, 0)\n"
     ]
    }
   ],
   "source": [
    "conn = sqlite3.connect(db_path)\n",
    "cursor = conn.cursor()\n",
    "\n",
    "cursor.execute(\"PRAGMA table_info(TimeDim);\")\n",
    "columns = cursor.fetchall()\n",
    "for col in columns:\n",
    "    print(col)\n",
    "\n",
    "conn.close()\n"
   ]
  },
  {
   "cell_type": "code",
   "execution_count": 19,
   "id": "bdc15170",
   "metadata": {},
   "outputs": [
    {
     "name": "stdout",
     "output_type": "stream",
     "text": [
      "(0, 'name', '', 0, None, 0)\n",
      "(1, 'seq', '', 0, None, 0)\n"
     ]
    }
   ],
   "source": [
    "conn = sqlite3.connect(db_path)\n",
    "cursor = conn.cursor()\n",
    "\n",
    "cursor.execute(\"PRAGMA table_info(sqlite_sequence);\")\n",
    "columns = cursor.fetchall()\n",
    "for col in columns:\n",
    "    print(col)\n",
    "\n",
    "conn.close()"
   ]
  },
  {
   "cell_type": "code",
   "execution_count": null,
   "id": "93576464",
   "metadata": {},
   "outputs": [
    {
     "name": "stdout",
     "output_type": "stream",
     "text": [
      "Query results saved to c:\\Users\\Admin\\OneDrive - United States International University (USIU)\\Documents\\USIU_A\\US2025\\DSA2040A\\Final Exam\\DSA_2040_Practical_Exam_Ambachow_550\\Data_Warehousing\\reports\\rollup_sales_by_country_quarter.csv\n",
      "Query results saved to c:\\Users\\Admin\\OneDrive - United States International University (USIU)\\Documents\\USIU_A\\US2025\\DSA2040A\\Final Exam\\DSA_2040_Practical_Exam_Ambachow_550\\Data_Warehousing\\reports\\drilldown_sales_uk_by_month.csv\n",
      "Query results saved to c:\\Users\\Admin\\OneDrive - United States International University (USIU)\\Documents\\USIU_A\\US2025\\DSA2040A\\Final Exam\\DSA_2040_Practical_Exam_Ambachow_550\\Data_Warehousing\\reports\\slice_sales_electronics.csv\n"
     ]
    }
   ],
   "source": [
    "# Define full absolute paths as raw strings (r\"...\") to avoid backslash issues\n",
    "sql_folder = r\"C:\\Users\\Admin\\OneDrive - United States International University (USIU)\\Documents\\USIU_A\\US2025\\DSA2040A\\Final Exam\\DSA_2040_Practical_Exam_Ambachow_550\\Data_Warehousing\\OLAP\\sql_queries\"\n",
    "reports_folder = r\"c:\\Users\\Admin\\OneDrive - United States International University (USIU)\\Documents\\USIU_A\\US2025\\DSA2040A\\Final Exam\\DSA_2040_Practical_Exam_Ambachow_550\\Data_Warehousing\\reports\"\n",
    "\n",
    "def run_query_save_csv(db_path, sql_file, output_csv):\n",
    "    conn = sqlite3.connect(db_path)\n",
    "    with open(sql_file, 'r') as file:\n",
    "        query = file.read()\n",
    "    df = pd.read_sql_query(query, conn)\n",
    "    df.to_csv(output_csv, index=False)\n",
    "    print(f\"Query results saved to {output_csv}\")\n",
    "    conn.close()\n",
    "\n",
    "# Run queries and save output CSVs:\n",
    "run_query_save_csv(\n",
    "    db_path,\n",
    "    rf\"{sql_folder}\\rollup_sales_by_country_quarter.sql\",\n",
    "    rf\"{reports_folder}\\rollup_sales_by_country_quarter.csv\"\n",
    ")\n",
    "\n",
    "run_query_save_csv(\n",
    "    db_path,\n",
    "    rf\"{sql_folder}\\drilldown_sales_uk_by_month.sql\",\n",
    "    rf\"{reports_folder}\\drilldown_sales_uk_by_month.csv\"\n",
    ")\n",
    "\n",
    "run_query_save_csv(\n",
    "    db_path,\n",
    "    rf\"{sql_folder}\\slice_sales_electronics.sql\",\n",
    "    rf\"{reports_folder}\\slice_sales_electronics.csv\"\n",
    ")\n"
   ]
  }
 ],
 "metadata": {
  "kernelspec": {
   "display_name": "Python 3",
   "language": "python",
   "name": "python3"
  },
  "language_info": {
   "codemirror_mode": {
    "name": "ipython",
    "version": 3
   },
   "file_extension": ".py",
   "mimetype": "text/x-python",
   "name": "python",
   "nbconvert_exporter": "python",
   "pygments_lexer": "ipython3",
   "version": "3.12.3"
  }
 },
 "nbformat": 4,
 "nbformat_minor": 5
}
