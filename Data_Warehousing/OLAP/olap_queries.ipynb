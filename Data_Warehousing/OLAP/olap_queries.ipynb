{
 "cells": [
  {
   "cell_type": "code",
   "execution_count": 13,
   "id": "9e34641b",
   "metadata": {},
   "outputs": [],
   "source": [
    "import sqlite3\n",
    "import pandas as pd\n",
    "\n",
    "db_path = r\"C:\\Users\\Admin\\OneDrive - United States International University (USIU)\\Documents\\USIU_A\\US2025\\DSA2040A\\Final Exam\\DSA_2040_Practical_Exam_Ambachow_550\\Data_Warehousing\\design\\retail_dw.db\"\n"
   ]
  },
  {
   "cell_type": "code",
   "execution_count": null,
   "id": "2a899098",
   "metadata": {},
   "outputs": [],
   "source": [
    "conn = sqlite3.connect(db_path)\n",
    "cursor = conn.cursor()\n",
    "\n",
    "cursor.execute(\"SELECT name FROM sqlite_master WHERE type='table';\")\n",
    "print(cursor.fetchall())\n",
    "\n",
    "conn.close()\n"
   ]
  },
  {
   "cell_type": "code",
   "execution_count": null,
   "id": "b97d1863",
   "metadata": {},
   "outputs": [],
   "source": [
    "conn = sqlite3.connect(db_path)\n",
    "cursor = conn.cursor()\n",
    "\n",
    "cursor.execute(\"PRAGMA table_info(SalesFact);\")\n",
    "columns = cursor.fetchall()\n",
    "for col in columns:\n",
    "    print(col)\n",
    "\n",
    "conn.close()\n"
   ]
  },
  {
   "cell_type": "code",
   "execution_count": null,
   "id": "93576464",
   "metadata": {},
   "outputs": [
    {
     "name": "stdout",
     "output_type": "stream",
     "text": [
      "Query results saved to c:\\Users\\Admin\\OneDrive - United States International University (USIU)\\Documents\\USIU_A\\US2025\\DSA2040A\\Final Exam\\DSA_2040_Practical_Exam_Ambachow_550\\Data_Warehousing\\reports\\rollup_sales_by_country_quarter.csv\n",
      "Query results saved to c:\\Users\\Admin\\OneDrive - United States International University (USIU)\\Documents\\USIU_A\\US2025\\DSA2040A\\Final Exam\\DSA_2040_Practical_Exam_Ambachow_550\\Data_Warehousing\\reports\\drilldown_sales_uk_by_month.csv\n",
      "Query results saved to c:\\Users\\Admin\\OneDrive - United States International University (USIU)\\Documents\\USIU_A\\US2025\\DSA2040A\\Final Exam\\DSA_2040_Practical_Exam_Ambachow_550\\Data_Warehousing\\reports\\slice_sales_electronics.csv\n"
     ]
    }
   ],
   "source": [
    "# Define full absolute paths as raw strings (r\"...\") to avoid backslash issues\n",
    "sql_folder = r\"C:\\Users\\Admin\\OneDrive - United States International University (USIU)\\Documents\\USIU_A\\US2025\\DSA2040A\\Final Exam\\DSA_2040_Practical_Exam_Ambachow_550\\Data_Warehousing\\OLAP\\sql_queries\"\n",
    "reports_folder = r\"c:\\Users\\Admin\\OneDrive - United States International University (USIU)\\Documents\\USIU_A\\US2025\\DSA2040A\\Final Exam\\DSA_2040_Practical_Exam_Ambachow_550\\Data_Warehousing\\reports\"\n",
    "\n",
    "def run_query_save_csv(db_path, sql_file, output_csv):\n",
    "    conn = sqlite3.connect(db_path)\n",
    "    with open(sql_file, 'r') as file:\n",
    "        query = file.read()\n",
    "    df = pd.read_sql_query(query, conn)\n",
    "    df.to_csv(output_csv, index=False)\n",
    "    print(f\"Query results saved to {output_csv}\")\n",
    "    conn.close()\n",
    "\n",
    "# Run queries and save output CSVs:\n",
    "run_query_save_csv(\n",
    "    db_path,\n",
    "    rf\"{sql_folder}\\rollup_sales_by_country_quarter.sql\",\n",
    "    rf\"{reports_folder}\\rollup_sales_by_country_quarter.csv\"\n",
    ")\n",
    "\n",
    "run_query_save_csv(\n",
    "    db_path,\n",
    "    rf\"{sql_folder}\\drilldown_sales_uk_by_month.sql\",\n",
    "    rf\"{reports_folder}\\drilldown_sales_uk_by_month.csv\"\n",
    ")\n",
    "\n",
    "run_query_save_csv(\n",
    "    db_path,\n",
    "    rf\"{sql_folder}\\slice_sales_electronics.sql\",\n",
    "    rf\"{reports_folder}\\slice_sales_electronics.csv\"\n",
    ")\n"
   ]
  }
 ],
 "metadata": {
  "kernelspec": {
   "display_name": "Python 3",
   "language": "python",
   "name": "python3"
  },
  "language_info": {
   "codemirror_mode": {
    "name": "ipython",
    "version": 3
   },
   "file_extension": ".py",
   "mimetype": "text/x-python",
   "name": "python",
   "nbconvert_exporter": "python",
   "pygments_lexer": "ipython3",
   "version": "3.12.3"
  }
 },
 "nbformat": 4,
 "nbformat_minor": 5
}
