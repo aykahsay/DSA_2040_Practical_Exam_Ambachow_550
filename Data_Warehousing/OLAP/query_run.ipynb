{
 "cells": [
  {
   "cell_type": "code",
   "execution_count": 2,
   "id": "a196c5a2",
   "metadata": {},
   "outputs": [
    {
     "name": "stdout",
     "output_type": "stream",
     "text": [
      "[('CustomerDim',), ('ProductDim',), ('TimeDim',), ('sqlite_sequence',), ('SalesFact',)]\n"
     ]
    }
   ],
   "source": [
    "import sqlite3\n",
    "\n",
    "db_path = r\"C:\\Users\\Admin\\OneDrive - United States International University (USIU)\\Documents\\USIU_A\\US2025\\DSA2040A\\Final Exam\\DSA_2040_Practical_Exam_Ambachow_550\\Data_Warehousing\\design\\retail_dw.db\"\n",
    "\n",
    "conn = sqlite3.connect(db_path)\n",
    "cursor = conn.cursor()\n",
    "\n",
    "cursor.execute(\"SELECT name FROM sqlite_master WHERE type='table';\")\n",
    "print(cursor.fetchall())\n",
    "\n",
    "conn.close()\n"
   ]
  },
  {
   "cell_type": "code",
   "execution_count": 3,
   "id": "28b3aec2",
   "metadata": {},
   "outputs": [
    {
     "name": "stdout",
     "output_type": "stream",
     "text": [
      "(0, 'Description', 'TEXT', 0, None, 0)\n",
      "(1, 'Quantity', 'INTEGER', 0, None, 0)\n",
      "(2, 'InvoiceDate', 'TIMESTAMP', 0, None, 0)\n",
      "(3, 'UnitPrice', 'REAL', 0, None, 0)\n",
      "(4, 'CustomerID', 'TEXT', 0, None, 0)\n",
      "(5, 'Country', 'TEXT', 0, None, 0)\n",
      "(6, 'InvoiceYear', 'INTEGER', 0, None, 0)\n",
      "(7, 'InvoiceMonth', 'INTEGER', 0, None, 0)\n",
      "(8, 'InvoiceDay', 'INTEGER', 0, None, 0)\n",
      "(9, 'InvoiceQuarter', 'INTEGER', 0, None, 0)\n"
     ]
    }
   ],
   "source": [
    "import sqlite3\n",
    "\n",
    "db_path = r\"C:\\Users\\Admin\\OneDrive - United States International University (USIU)\\Documents\\USIU_A\\US2025\\DSA2040A\\Final Exam\\DSA_2040_Practical_Exam_Ambachow_550\\Data_Warehousing\\design\\retail_dw.db\"\n",
    "\n",
    "conn = sqlite3.connect(db_path)\n",
    "cursor = conn.cursor()\n",
    "\n",
    "cursor.execute(\"PRAGMA table_info(SalesFact);\")\n",
    "columns = cursor.fetchall()\n",
    "for col in columns:\n",
    "    print(col)\n",
    "\n",
    "conn.close()\n"
   ]
  },
  {
   "cell_type": "code",
   "execution_count": 4,
   "id": "1f5f8d41",
   "metadata": {},
   "outputs": [
    {
     "name": "stdout",
     "output_type": "stream",
     "text": [
      "Schema for table: CustomerDim\n",
      "  CustomerID (INTEGER)\n",
      "  CustomerName (TEXT)\n",
      "  Location (TEXT)\n",
      "  Country (TEXT)\n",
      "\n",
      "\n",
      "Schema for table: ProductDim\n",
      "  ProductID (TEXT)\n",
      "  ProductName (TEXT)\n",
      "  Category (TEXT)\n",
      "\n",
      "\n",
      "Schema for table: TimeDim\n",
      "  TimeID (INTEGER)\n",
      "  Date (TEXT)\n",
      "  Month (INTEGER)\n",
      "  Quarter (INTEGER)\n",
      "  Year (INTEGER)\n",
      "\n",
      "\n",
      "Schema for table: sqlite_sequence\n",
      "  name ()\n",
      "  seq ()\n",
      "\n",
      "\n",
      "Schema for table: SalesFact\n",
      "  Description (TEXT)\n",
      "  Quantity (INTEGER)\n",
      "  InvoiceDate (TIMESTAMP)\n",
      "  UnitPrice (REAL)\n",
      "  CustomerID (TEXT)\n",
      "  Country (TEXT)\n",
      "  InvoiceYear (INTEGER)\n",
      "  InvoiceMonth (INTEGER)\n",
      "  InvoiceDay (INTEGER)\n",
      "  InvoiceQuarter (INTEGER)\n",
      "\n",
      "\n"
     ]
    }
   ],
   "source": [
    "import sqlite3\n",
    "\n",
    "db_path = r\"C:\\Users\\Admin\\OneDrive - United States International University (USIU)\\Documents\\USIU_A\\US2025\\DSA2040A\\Final Exam\\DSA_2040_Practical_Exam_Ambachow_550\\Data_Warehousing\\design\\retail_dw.db\"\n",
    "\n",
    "conn = sqlite3.connect(db_path)\n",
    "cursor = conn.cursor()\n",
    "\n",
    "# Get list of tables\n",
    "cursor.execute(\"SELECT name FROM sqlite_master WHERE type='table';\")\n",
    "tables = cursor.fetchall()\n",
    "\n",
    "for table_name in tables:\n",
    "    table = table_name[0]\n",
    "    print(f\"Schema for table: {table}\")\n",
    "    cursor.execute(f\"PRAGMA table_info({table});\")\n",
    "    columns = cursor.fetchall()\n",
    "    for col in columns:\n",
    "        print(f\"  {col[1]} ({col[2]})\")  # column name and type\n",
    "    print(\"\\n\")\n",
    "\n",
    "conn.close()\n"
   ]
  },
  {
   "cell_type": "code",
   "execution_count": 6,
   "id": "1f69e148",
   "metadata": {},
   "outputs": [
    {
     "name": "stdout",
     "output_type": "stream",
     "text": [
      "Schema for table: SalesFact\n",
      "  Description (TEXT)\n",
      "  Quantity (INTEGER)\n",
      "  InvoiceDate (TIMESTAMP)\n",
      "  UnitPrice (REAL)\n",
      "  CustomerID (TEXT)\n",
      "  Country (TEXT)\n",
      "  InvoiceYear (INTEGER)\n",
      "  InvoiceMonth (INTEGER)\n",
      "  InvoiceDay (INTEGER)\n",
      "  InvoiceQuarter (INTEGER)\n"
     ]
    }
   ],
   "source": [
    "import sqlite3\n",
    "\n",
    "conn = sqlite3.connect(db_path)\n",
    "cursor = conn.cursor()\n",
    "\n",
    "cursor.execute(\"PRAGMA table_info(SalesFact);\")\n",
    "columns = cursor.fetchall()\n",
    "\n",
    "print(\"Schema for table: SalesFact\")\n",
    "for col in columns:\n",
    "    print(f\"  {col[1]} ({col[2]})\")  # col[1] = column name, col[2] = type\n",
    "\n",
    "conn.close()\n"
   ]
  },
  {
   "cell_type": "code",
   "execution_count": 5,
   "id": "aaf5be6c",
   "metadata": {},
   "outputs": [
    {
     "ename": "DatabaseError",
     "evalue": "Execution failed on sql '\nSELECT c.Country, t.Year, t.Quarter, SUM(sf.SalesAmount) AS TotalSales\nFROM SalesFact sf\nJOIN CustomerDim c ON sf.CustomerID = c.CustomerID\nJOIN TimeDim t ON sf.TimeID = t.TimeID\nGROUP BY c.Country, t.Year, t.Quarter\nORDER BY c.Country, t.Year, t.Quarter;\n': no such column: sf.SalesAmount",
     "output_type": "error",
     "traceback": [
      "\u001b[1;31m---------------------------------------------------------------------------\u001b[0m",
      "\u001b[1;31mOperationalError\u001b[0m                          Traceback (most recent call last)",
      "File \u001b[1;32mc:\\Users\\Admin\\AppData\\Local\\Programs\\Python\\Python312\\Lib\\site-packages\\pandas\\io\\sql.py:2674\u001b[0m, in \u001b[0;36mSQLiteDatabase.execute\u001b[1;34m(self, sql, params)\u001b[0m\n\u001b[0;32m   2673\u001b[0m \u001b[38;5;28;01mtry\u001b[39;00m:\n\u001b[1;32m-> 2674\u001b[0m     \u001b[43mcur\u001b[49m\u001b[38;5;241;43m.\u001b[39;49m\u001b[43mexecute\u001b[49m\u001b[43m(\u001b[49m\u001b[43msql\u001b[49m\u001b[43m,\u001b[49m\u001b[43m \u001b[49m\u001b[38;5;241;43m*\u001b[39;49m\u001b[43margs\u001b[49m\u001b[43m)\u001b[49m\n\u001b[0;32m   2675\u001b[0m     \u001b[38;5;28;01mreturn\u001b[39;00m cur\n",
      "\u001b[1;31mOperationalError\u001b[0m: no such column: sf.SalesAmount",
      "\nThe above exception was the direct cause of the following exception:\n",
      "\u001b[1;31mDatabaseError\u001b[0m                             Traceback (most recent call last)",
      "Cell \u001b[1;32mIn[5], line 38\u001b[0m\n\u001b[0;32m     29\u001b[0m \u001b[38;5;66;03m# Query 1: Roll-up total sales by country and quarter\u001b[39;00m\n\u001b[0;32m     30\u001b[0m query1 \u001b[38;5;241m=\u001b[39m \u001b[38;5;124m\"\"\"\u001b[39m\n\u001b[0;32m     31\u001b[0m \u001b[38;5;124mSELECT c.Country, t.Year, t.Quarter, SUM(sf.SalesAmount) AS TotalSales\u001b[39m\n\u001b[0;32m     32\u001b[0m \u001b[38;5;124mFROM SalesFact sf\u001b[39m\n\u001b[1;32m   (...)\u001b[0m\n\u001b[0;32m     36\u001b[0m \u001b[38;5;124mORDER BY c.Country, t.Year, t.Quarter;\u001b[39m\n\u001b[0;32m     37\u001b[0m \u001b[38;5;124m\"\"\"\u001b[39m\n\u001b[1;32m---> 38\u001b[0m \u001b[43mrun_query_save_csv\u001b[49m\u001b[43m(\u001b[49m\u001b[43mquery1\u001b[49m\u001b[43m,\u001b[49m\u001b[43m \u001b[49m\u001b[38;5;124;43m\"\u001b[39;49m\u001b[38;5;124;43mrollup_sales_by_country_quarter.csv\u001b[39;49m\u001b[38;5;124;43m\"\u001b[39;49m\u001b[43m)\u001b[49m\n\u001b[0;32m     40\u001b[0m \u001b[38;5;66;03m# Query 2: Drill-down sales details for UK by month\u001b[39;00m\n\u001b[0;32m     41\u001b[0m query2 \u001b[38;5;241m=\u001b[39m \u001b[38;5;124m\"\"\"\u001b[39m\n\u001b[0;32m     42\u001b[0m \u001b[38;5;124mSELECT t.Year, t.Month, sf.InvoiceNo, p.ProductName, sf.Quantity, sf.SalesAmount\u001b[39m\n\u001b[0;32m     43\u001b[0m \u001b[38;5;124mFROM SalesFact sf\u001b[39m\n\u001b[1;32m   (...)\u001b[0m\n\u001b[0;32m     48\u001b[0m \u001b[38;5;124mORDER BY t.Year, t.Month;\u001b[39m\n\u001b[0;32m     49\u001b[0m \u001b[38;5;124m\"\"\"\u001b[39m\n",
      "Cell \u001b[1;32mIn[5], line 17\u001b[0m, in \u001b[0;36mrun_query_save_csv\u001b[1;34m(query, filename)\u001b[0m\n\u001b[0;32m     14\u001b[0m conn \u001b[38;5;241m=\u001b[39m sqlite3\u001b[38;5;241m.\u001b[39mconnect(db_path)\n\u001b[0;32m     16\u001b[0m \u001b[38;5;66;03m# Run query\u001b[39;00m\n\u001b[1;32m---> 17\u001b[0m df \u001b[38;5;241m=\u001b[39m \u001b[43mpd\u001b[49m\u001b[38;5;241;43m.\u001b[39;49m\u001b[43mread_sql_query\u001b[49m\u001b[43m(\u001b[49m\u001b[43mquery\u001b[49m\u001b[43m,\u001b[49m\u001b[43m \u001b[49m\u001b[43mconn\u001b[49m\u001b[43m)\u001b[49m\n\u001b[0;32m     19\u001b[0m \u001b[38;5;66;03m# Save to CSV\u001b[39;00m\n\u001b[0;32m     20\u001b[0m save_path \u001b[38;5;241m=\u001b[39m os\u001b[38;5;241m.\u001b[39mpath\u001b[38;5;241m.\u001b[39mjoin(reports_dir, filename)\n",
      "File \u001b[1;32mc:\\Users\\Admin\\AppData\\Local\\Programs\\Python\\Python312\\Lib\\site-packages\\pandas\\io\\sql.py:526\u001b[0m, in \u001b[0;36mread_sql_query\u001b[1;34m(sql, con, index_col, coerce_float, params, parse_dates, chunksize, dtype, dtype_backend)\u001b[0m\n\u001b[0;32m    523\u001b[0m \u001b[38;5;28;01massert\u001b[39;00m dtype_backend \u001b[38;5;129;01mis\u001b[39;00m \u001b[38;5;129;01mnot\u001b[39;00m lib\u001b[38;5;241m.\u001b[39mno_default\n\u001b[0;32m    525\u001b[0m \u001b[38;5;28;01mwith\u001b[39;00m pandasSQL_builder(con) \u001b[38;5;28;01mas\u001b[39;00m pandas_sql:\n\u001b[1;32m--> 526\u001b[0m     \u001b[38;5;28;01mreturn\u001b[39;00m \u001b[43mpandas_sql\u001b[49m\u001b[38;5;241;43m.\u001b[39;49m\u001b[43mread_query\u001b[49m\u001b[43m(\u001b[49m\n\u001b[0;32m    527\u001b[0m \u001b[43m        \u001b[49m\u001b[43msql\u001b[49m\u001b[43m,\u001b[49m\n\u001b[0;32m    528\u001b[0m \u001b[43m        \u001b[49m\u001b[43mindex_col\u001b[49m\u001b[38;5;241;43m=\u001b[39;49m\u001b[43mindex_col\u001b[49m\u001b[43m,\u001b[49m\n\u001b[0;32m    529\u001b[0m \u001b[43m        \u001b[49m\u001b[43mparams\u001b[49m\u001b[38;5;241;43m=\u001b[39;49m\u001b[43mparams\u001b[49m\u001b[43m,\u001b[49m\n\u001b[0;32m    530\u001b[0m \u001b[43m        \u001b[49m\u001b[43mcoerce_float\u001b[49m\u001b[38;5;241;43m=\u001b[39;49m\u001b[43mcoerce_float\u001b[49m\u001b[43m,\u001b[49m\n\u001b[0;32m    531\u001b[0m \u001b[43m        \u001b[49m\u001b[43mparse_dates\u001b[49m\u001b[38;5;241;43m=\u001b[39;49m\u001b[43mparse_dates\u001b[49m\u001b[43m,\u001b[49m\n\u001b[0;32m    532\u001b[0m \u001b[43m        \u001b[49m\u001b[43mchunksize\u001b[49m\u001b[38;5;241;43m=\u001b[39;49m\u001b[43mchunksize\u001b[49m\u001b[43m,\u001b[49m\n\u001b[0;32m    533\u001b[0m \u001b[43m        \u001b[49m\u001b[43mdtype\u001b[49m\u001b[38;5;241;43m=\u001b[39;49m\u001b[43mdtype\u001b[49m\u001b[43m,\u001b[49m\n\u001b[0;32m    534\u001b[0m \u001b[43m        \u001b[49m\u001b[43mdtype_backend\u001b[49m\u001b[38;5;241;43m=\u001b[39;49m\u001b[43mdtype_backend\u001b[49m\u001b[43m,\u001b[49m\n\u001b[0;32m    535\u001b[0m \u001b[43m    \u001b[49m\u001b[43m)\u001b[49m\n",
      "File \u001b[1;32mc:\\Users\\Admin\\AppData\\Local\\Programs\\Python\\Python312\\Lib\\site-packages\\pandas\\io\\sql.py:2738\u001b[0m, in \u001b[0;36mSQLiteDatabase.read_query\u001b[1;34m(self, sql, index_col, coerce_float, parse_dates, params, chunksize, dtype, dtype_backend)\u001b[0m\n\u001b[0;32m   2727\u001b[0m \u001b[38;5;28;01mdef\u001b[39;00m \u001b[38;5;21mread_query\u001b[39m(\n\u001b[0;32m   2728\u001b[0m     \u001b[38;5;28mself\u001b[39m,\n\u001b[0;32m   2729\u001b[0m     sql,\n\u001b[1;32m   (...)\u001b[0m\n\u001b[0;32m   2736\u001b[0m     dtype_backend: DtypeBackend \u001b[38;5;241m|\u001b[39m Literal[\u001b[38;5;124m\"\u001b[39m\u001b[38;5;124mnumpy\u001b[39m\u001b[38;5;124m\"\u001b[39m] \u001b[38;5;241m=\u001b[39m \u001b[38;5;124m\"\u001b[39m\u001b[38;5;124mnumpy\u001b[39m\u001b[38;5;124m\"\u001b[39m,\n\u001b[0;32m   2737\u001b[0m ) \u001b[38;5;241m-\u001b[39m\u001b[38;5;241m>\u001b[39m DataFrame \u001b[38;5;241m|\u001b[39m Iterator[DataFrame]:\n\u001b[1;32m-> 2738\u001b[0m     cursor \u001b[38;5;241m=\u001b[39m \u001b[38;5;28;43mself\u001b[39;49m\u001b[38;5;241;43m.\u001b[39;49m\u001b[43mexecute\u001b[49m\u001b[43m(\u001b[49m\u001b[43msql\u001b[49m\u001b[43m,\u001b[49m\u001b[43m \u001b[49m\u001b[43mparams\u001b[49m\u001b[43m)\u001b[49m\n\u001b[0;32m   2739\u001b[0m     columns \u001b[38;5;241m=\u001b[39m [col_desc[\u001b[38;5;241m0\u001b[39m] \u001b[38;5;28;01mfor\u001b[39;00m col_desc \u001b[38;5;129;01min\u001b[39;00m cursor\u001b[38;5;241m.\u001b[39mdescription]\n\u001b[0;32m   2741\u001b[0m     \u001b[38;5;28;01mif\u001b[39;00m chunksize \u001b[38;5;129;01mis\u001b[39;00m \u001b[38;5;129;01mnot\u001b[39;00m \u001b[38;5;28;01mNone\u001b[39;00m:\n",
      "File \u001b[1;32mc:\\Users\\Admin\\AppData\\Local\\Programs\\Python\\Python312\\Lib\\site-packages\\pandas\\io\\sql.py:2686\u001b[0m, in \u001b[0;36mSQLiteDatabase.execute\u001b[1;34m(self, sql, params)\u001b[0m\n\u001b[0;32m   2683\u001b[0m     \u001b[38;5;28;01mraise\u001b[39;00m ex \u001b[38;5;28;01mfrom\u001b[39;00m \u001b[38;5;21;01minner_exc\u001b[39;00m\n\u001b[0;32m   2685\u001b[0m ex \u001b[38;5;241m=\u001b[39m DatabaseError(\u001b[38;5;124mf\u001b[39m\u001b[38;5;124m\"\u001b[39m\u001b[38;5;124mExecution failed on sql \u001b[39m\u001b[38;5;124m'\u001b[39m\u001b[38;5;132;01m{\u001b[39;00msql\u001b[38;5;132;01m}\u001b[39;00m\u001b[38;5;124m'\u001b[39m\u001b[38;5;124m: \u001b[39m\u001b[38;5;132;01m{\u001b[39;00mexc\u001b[38;5;132;01m}\u001b[39;00m\u001b[38;5;124m\"\u001b[39m)\n\u001b[1;32m-> 2686\u001b[0m \u001b[38;5;28;01mraise\u001b[39;00m ex \u001b[38;5;28;01mfrom\u001b[39;00m \u001b[38;5;21;01mexc\u001b[39;00m\n",
      "\u001b[1;31mDatabaseError\u001b[0m: Execution failed on sql '\nSELECT c.Country, t.Year, t.Quarter, SUM(sf.SalesAmount) AS TotalSales\nFROM SalesFact sf\nJOIN CustomerDim c ON sf.CustomerID = c.CustomerID\nJOIN TimeDim t ON sf.TimeID = t.TimeID\nGROUP BY c.Country, t.Year, t.Quarter\nORDER BY c.Country, t.Year, t.Quarter;\n': no such column: sf.SalesAmount"
     ]
    }
   ],
   "source": [
    "import sqlite3\n",
    "import pandas as pd\n",
    "import os\n",
    "\n",
    "# Define paths\n",
    "db_path = r\"C:\\Users\\Admin\\OneDrive - United States International University (USIU)\\Documents\\USIU_A\\US2025\\DSA2040A\\Final Exam\\DSA_2040_Practical_Exam_Ambachow_550\\Data_Warehousing\\design\\retail_dw.db\"\n",
    "reports_dir = r\"C:\\Users\\Admin\\OneDrive - United States International University (USIU)\\Documents\\USIU_A\\US2025\\DSA2040A\\Final Exam\\DSA_2040_Practical_Exam_Ambachow_550\\Data_Warehousing\\reports\"\n",
    "\n",
    "# Make sure reports folder exists\n",
    "os.makedirs(reports_dir, exist_ok=True)\n",
    "\n",
    "def run_query_save_csv(query: str, filename: str):\n",
    "    # Connect to DB\n",
    "    conn = sqlite3.connect(db_path)\n",
    "    \n",
    "    # Run query\n",
    "    df = pd.read_sql_query(query, conn)\n",
    "    \n",
    "    # Save to CSV\n",
    "    save_path = os.path.join(reports_dir, filename)\n",
    "    df.to_csv(save_path, index=False)\n",
    "    \n",
    "    # Close connection\n",
    "    conn.close()\n",
    "    \n",
    "    print(f\"Query results saved to {save_path}\")\n",
    "    print(df.head())  # Optional: print first 5 rows\n",
    "\n",
    "# Query 1: Roll-up total sales by country and quarter\n",
    "query1 = \"\"\"\n",
    "SELECT c.Country, t.Year, t.Quarter, SUM(sf.SalesAmount) AS TotalSales\n",
    "FROM SalesFact sf\n",
    "JOIN CustomerDim c ON sf.CustomerID = c.CustomerID\n",
    "JOIN TimeDim t ON sf.TimeID = t.TimeID\n",
    "GROUP BY c.Country, t.Year, t.Quarter\n",
    "ORDER BY c.Country, t.Year, t.Quarter;\n",
    "\"\"\"\n",
    "run_query_save_csv(query1, \"rollup_sales_by_country_quarter.csv\")\n",
    "\n",
    "# Query 2: Drill-down sales details for UK by month\n",
    "query2 = \"\"\"\n",
    "SELECT t.Year, t.Month, sf.InvoiceNo, p.ProductName, sf.Quantity, sf.SalesAmount\n",
    "FROM SalesFact sf\n",
    "JOIN CustomerDim c ON sf.CustomerID = c.CustomerID\n",
    "JOIN ProductDim p ON sf.ProductID = p.ProductID\n",
    "JOIN TimeDim t ON sf.TimeID = t.TimeID\n",
    "WHERE c.Country = 'United Kingdom'\n",
    "ORDER BY t.Year, t.Month;\n",
    "\"\"\"\n",
    "run_query_save_csv(query2, \"drilldown_sales_UK_by_month.csv\")\n",
    "\n",
    "# Query 3: Slice total sales for Electronics category by month/year\n",
    "query3 = \"\"\"\n",
    "SELECT t.Year, t.Month, SUM(sf.SalesAmount) AS TotalSales\n",
    "FROM SalesFact sf\n",
    "JOIN ProductDim p ON sf.ProductID = p.ProductID\n",
    "JOIN TimeDim t ON sf.TimeID = t.TimeID\n",
    "WHERE p.Category = 'Electronics'\n",
    "GROUP BY t.Year, t.Month\n",
    "ORDER BY t.Year, t.Month;\n",
    "\"\"\"\n",
    "run_query_save_csv(query3, \"slice_sales_electronics.csv\")\n"
   ]
  }
 ],
 "metadata": {
  "kernelspec": {
   "display_name": "Python 3",
   "language": "python",
   "name": "python3"
  },
  "language_info": {
   "codemirror_mode": {
    "name": "ipython",
    "version": 3
   },
   "file_extension": ".py",
   "mimetype": "text/x-python",
   "name": "python",
   "nbconvert_exporter": "python",
   "pygments_lexer": "ipython3",
   "version": "3.12.3"
  }
 },
 "nbformat": 4,
 "nbformat_minor": 5
}
