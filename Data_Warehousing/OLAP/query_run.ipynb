{
 "cells": [
  {
   "cell_type": "code",
   "execution_count": 2,
   "id": "a196c5a2",
   "metadata": {},
   "outputs": [
    {
     "name": "stdout",
     "output_type": "stream",
     "text": [
      "[('CustomerDim',), ('ProductDim',), ('TimeDim',), ('sqlite_sequence',), ('SalesFact',)]\n"
     ]
    }
   ],
   "source": [
    "import sqlite3\n",
    "\n",
    "db_path = r\"C:\\Users\\Admin\\OneDrive - United States International University (USIU)\\Documents\\USIU_A\\US2025\\DSA2040A\\Final Exam\\DSA_2040_Practical_Exam_Ambachow_550\\Data_Warehousing\\design\\retail_dw.db\"\n",
    "\n",
    "conn = sqlite3.connect(db_path)\n",
    "cursor = conn.cursor()\n",
    "\n",
    "cursor.execute(\"SELECT name FROM sqlite_master WHERE type='table';\")\n",
    "print(cursor.fetchall())\n",
    "\n",
    "conn.close()\n"
   ]
  },
  {
   "cell_type": "code",
   "execution_count": 3,
   "id": "28b3aec2",
   "metadata": {},
   "outputs": [
    {
     "name": "stdout",
     "output_type": "stream",
     "text": [
      "(0, 'Description', 'TEXT', 0, None, 0)\n",
      "(1, 'Quantity', 'INTEGER', 0, None, 0)\n",
      "(2, 'InvoiceDate', 'TIMESTAMP', 0, None, 0)\n",
      "(3, 'UnitPrice', 'REAL', 0, None, 0)\n",
      "(4, 'CustomerID', 'TEXT', 0, None, 0)\n",
      "(5, 'Country', 'TEXT', 0, None, 0)\n",
      "(6, 'InvoiceYear', 'INTEGER', 0, None, 0)\n",
      "(7, 'InvoiceMonth', 'INTEGER', 0, None, 0)\n",
      "(8, 'InvoiceDay', 'INTEGER', 0, None, 0)\n",
      "(9, 'InvoiceQuarter', 'INTEGER', 0, None, 0)\n"
     ]
    }
   ],
   "source": [
    "import sqlite3\n",
    "\n",
    "db_path = r\"C:\\Users\\Admin\\OneDrive - United States International University (USIU)\\Documents\\USIU_A\\US2025\\DSA2040A\\Final Exam\\DSA_2040_Practical_Exam_Ambachow_550\\Data_Warehousing\\design\\retail_dw.db\"\n",
    "\n",
    "conn = sqlite3.connect(db_path)\n",
    "cursor = conn.cursor()\n",
    "\n",
    "cursor.execute(\"PRAGMA table_info(SalesFact);\")\n",
    "columns = cursor.fetchall()\n",
    "for col in columns:\n",
    "    print(col)\n",
    "\n",
    "conn.close()\n"
   ]
  },
  {
   "cell_type": "code",
   "execution_count": 4,
   "id": "1f5f8d41",
   "metadata": {},
   "outputs": [
    {
     "name": "stdout",
     "output_type": "stream",
     "text": [
      "Schema for table: CustomerDim\n",
      "  CustomerID (INTEGER)\n",
      "  CustomerName (TEXT)\n",
      "  Location (TEXT)\n",
      "  Country (TEXT)\n",
      "\n",
      "\n",
      "Schema for table: ProductDim\n",
      "  ProductID (TEXT)\n",
      "  ProductName (TEXT)\n",
      "  Category (TEXT)\n",
      "\n",
      "\n",
      "Schema for table: TimeDim\n",
      "  TimeID (INTEGER)\n",
      "  Date (TEXT)\n",
      "  Month (INTEGER)\n",
      "  Quarter (INTEGER)\n",
      "  Year (INTEGER)\n",
      "\n",
      "\n",
      "Schema for table: sqlite_sequence\n",
      "  name ()\n",
      "  seq ()\n",
      "\n",
      "\n",
      "Schema for table: SalesFact\n",
      "  Description (TEXT)\n",
      "  Quantity (INTEGER)\n",
      "  InvoiceDate (TIMESTAMP)\n",
      "  UnitPrice (REAL)\n",
      "  CustomerID (TEXT)\n",
      "  Country (TEXT)\n",
      "  InvoiceYear (INTEGER)\n",
      "  InvoiceMonth (INTEGER)\n",
      "  InvoiceDay (INTEGER)\n",
      "  InvoiceQuarter (INTEGER)\n",
      "\n",
      "\n"
     ]
    }
   ],
   "source": [
    "import sqlite3\n",
    "\n",
    "db_path = r\"C:\\Users\\Admin\\OneDrive - United States International University (USIU)\\Documents\\USIU_A\\US2025\\DSA2040A\\Final Exam\\DSA_2040_Practical_Exam_Ambachow_550\\Data_Warehousing\\design\\retail_dw.db\"\n",
    "\n",
    "conn = sqlite3.connect(db_path)\n",
    "cursor = conn.cursor()\n",
    "\n",
    "# Get list of tables\n",
    "cursor.execute(\"SELECT name FROM sqlite_master WHERE type='table';\")\n",
    "tables = cursor.fetchall()\n",
    "\n",
    "for table_name in tables:\n",
    "    table = table_name[0]\n",
    "    print(f\"Schema for table: {table}\")\n",
    "    cursor.execute(f\"PRAGMA table_info({table});\")\n",
    "    columns = cursor.fetchall()\n",
    "    for col in columns:\n",
    "        print(f\"  {col[1]} ({col[2]})\")  # column name and type\n",
    "    print(\"\\n\")\n",
    "\n",
    "conn.close()\n"
   ]
  },
  {
   "cell_type": "code",
   "execution_count": 1,
   "id": "aaf5be6c",
   "metadata": {},
   "outputs": [
    {
     "ename": "OperationalError",
     "evalue": "no such table: retail",
     "output_type": "error",
     "traceback": [
      "\u001b[1;31m---------------------------------------------------------------------------\u001b[0m",
      "\u001b[1;31mOperationalError\u001b[0m                          Traceback (most recent call last)",
      "Cell \u001b[1;32mIn[1], line 16\u001b[0m\n\u001b[0;32m     14\u001b[0m \u001b[38;5;66;03m# Execute query and fetch results\u001b[39;00m\n\u001b[0;32m     15\u001b[0m cursor \u001b[38;5;241m=\u001b[39m conn\u001b[38;5;241m.\u001b[39mcursor()\n\u001b[1;32m---> 16\u001b[0m \u001b[43mcursor\u001b[49m\u001b[38;5;241;43m.\u001b[39;49m\u001b[43mexecute\u001b[49m\u001b[43m(\u001b[49m\u001b[43mquery\u001b[49m\u001b[43m)\u001b[49m\n\u001b[0;32m     17\u001b[0m results \u001b[38;5;241m=\u001b[39m cursor\u001b[38;5;241m.\u001b[39mfetchall()\n\u001b[0;32m     19\u001b[0m \u001b[38;5;66;03m# Print results\u001b[39;00m\n",
      "\u001b[1;31mOperationalError\u001b[0m: no such table: retail"
     ]
    }
   ],
   "source": [
    "import sqlite3\n",
    "\n",
    "# Path to DB and SQL file\n",
    "db_path = r\"C:\\Users\\Admin\\OneDrive - United States International University (USIU)\\Documents\\USIU_A\\US2025\\DSA2040A\\Final Exam\\DSA_2040_Practical_Exam_Ambachow_550\\Data_Warehousing\\design\\retail_dw.db\"\n",
    "sql_file = \"sales_analysis.sql\"\n",
    "\n",
    "# Read SQL query from file\n",
    "with open(sql_file, 'r') as file:\n",
    "    query = file.read()\n",
    "\n",
    "# Connect to SQLite DB\n",
    "conn = sqlite3.connect(db_path)\n",
    "\n",
    "# Execute query and fetch results\n",
    "cursor = conn.cursor()\n",
    "cursor.execute(query)\n",
    "results = cursor.fetchall()\n",
    "\n",
    "# Print results\n",
    "for row in results:\n",
    "    print(row)\n",
    "\n",
    "# Close connection\n",
    "conn.close()\n"
   ]
  }
 ],
 "metadata": {
  "kernelspec": {
   "display_name": "Python 3",
   "language": "python",
   "name": "python3"
  },
  "language_info": {
   "codemirror_mode": {
    "name": "ipython",
    "version": 3
   },
   "file_extension": ".py",
   "mimetype": "text/x-python",
   "name": "python",
   "nbconvert_exporter": "python",
   "pygments_lexer": "ipython3",
   "version": "3.12.3"
  }
 },
 "nbformat": 4,
 "nbformat_minor": 5
}
