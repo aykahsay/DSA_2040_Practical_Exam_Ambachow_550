{
 "cells": [
  {
   "cell_type": "code",
   "execution_count": null,
   "id": "d885e589",
   "metadata": {},
   "outputs": [],
   "source": [
    "import sqlite3\n",
    "\n",
    "# Path to SQLite DB file (it will create if not exists)\n",
    "db_path = 'retail_dw.db'\n",
    "\n",
    "# Connect to SQLite database\n",
    "conn = sqlite3.connect(db_path)\n",
    "cursor = conn.cursor()\n",
    "\n",
    "# Read the schema.sql file with CREATE TABLE statements\n",
    "with open('schema.sql', 'r') as f:\n",
    "    schema_sql = f.read()\n",
    "\n",
    "# Execute all SQL commands to create tables\n",
    "cursor.executescript(schema_sql)\n",
    "\n",
    "# Commit changes and close connection\n",
    "conn.commit()\n",
    "conn.close()\n",
    "\n",
    "print(\"Database and tables created successfully.\")\n"
   ]
  }
 ],
 "metadata": {
  "kernelspec": {
   "display_name": "Python 3",
   "language": "python",
   "name": "python3"
  },
  "language_info": {
   "codemirror_mode": {
    "name": "ipython",
    "version": 3
   },
   "file_extension": ".py",
   "mimetype": "text/x-python",
   "name": "python",
   "nbconvert_exporter": "python",
   "pygments_lexer": "ipython3",
   "version": "3.12.3"
  }
 },
 "nbformat": 4,
 "nbformat_minor": 5
}
