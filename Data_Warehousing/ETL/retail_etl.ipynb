{
 "cells": [
  {
   "cell_type": "markdown",
   "id": "d9f6bc1d",
   "metadata": {},
   "source": [
    "### ETL "
   ]
  },
  {
   "cell_type": "code",
   "execution_count": null,
   "id": "4bbad2f5",
   "metadata": {},
   "outputs": [],
   "source": [
    "# Import Libraries\n",
    "import pandas as pd\n",
    "import sqlite3\n",
    "from datetime import datetime"
   ]
  },
  {
   "cell_type": "code",
   "execution_count": null,
   "id": "7407978c",
   "metadata": {},
   "outputs": [],
   "source": [
    "# Define file path again\n",
    "data_path = r\"C:\\Users\\Admin\\OneDrive - United States International University (USIU)\\Documents\\USIU_A\\US2025\\DSA2040A\\Final Exam\\DSA_2040_Practical_Exam_Ambachow_550\\Data_Warehousing\\data\\online_retail.csv\"\n",
    "\n",
    "# Step 1: Extract - Read CSV\n",
    "df = pd.read_csv(data_path)\n",
    "\n",
    "# Step 2: Data cleaning & transformation\n",
    "\n",
    "# Convert InvoiceDate to datetime\n",
    "df['InvoiceDate'] = pd.to_datetime(df['InvoiceDate'], errors='coerce')\n",
    "\n",
    "# Remove rows with negative quantity or non-positive price\n",
    "df = df[(df['Quantity'] > 0) & (df['UnitPrice'] > 0)]\n",
    "\n",
    "# Calculate TotalSales\n",
    "df['TotalSales'] = df['Quantity'] * df['UnitPrice']\n",
    "\n",
    "# Filter sales for last year (assuming current date August 12, 2025)\n",
    "cutoff_date = pd.Timestamp('2024-08-12')\n",
    "df_last_year = df[df['InvoiceDate'] >= cutoff_date]\n",
    "\n",
    "# Step 3: Create customer summary dimension\n",
    "customer_summary = df_last_year.groupby('CustomerID').agg(\n",
    "    TotalPurchases=('TotalSales', 'sum'),\n",
    "    Country=('Country', 'first')\n",
    ").reset_index()\n",
    "\n",
    "# Step 4: Create time dimension (extract date parts)\n",
    "time_dim = df_last_year[['InvoiceDate']].drop_duplicates().copy()\n",
    "time_dim['Date'] = time_dim['InvoiceDate'].dt.date\n",
    "time_dim['Year'] = time_dim['InvoiceDate'].dt.year\n",
    "time_dim['Quarter'] = time_dim['InvoiceDate'].dt.quarter\n",
    "time_dim['Month'] = time_dim['InvoiceDate'].dt.month\n",
    "\n",
    "# Step 5: Load into SQLite database\n",
    "conn = sqlite3.connect(r\"C:\\Users\\Admin\\OneDrive - United States International University (USIU)\\Documents\\USIU_A\\US2025\\DSA2040A\\Final Exam\\DSA_2040_Practical_Exam_Ambachow_550\\Data_Warehousing\\data\\retail_dw.db\")\n",
    "\n",
    "# Load CustomerDim\n",
    "customer_summary.to_sql('CustomerDim', conn, if_exists='replace', index=False)\n",
    "\n",
    "# Load TimeDim\n",
    "time_dim.to_sql('TimeDim', conn, if_exists='replace', index=False)\n",
    "\n",
    "# Load SalesFact (fact table)\n",
    "# Join df_last_year with time_dim to get date fields, and select needed columns\n",
    "sales_fact = df_last_year.merge(time_dim, left_on='InvoiceDate', right_on='InvoiceDate', how='left')\n",
    "\n",
    "# Select fact table columns: InvoiceNo, CustomerID, StockCode, Quantity, UnitPrice, TotalSales, Date, Year, Quarter, Month\n",
    "sales_fact_table = sales_fact[['InvoiceNo', 'CustomerID', 'StockCode', 'Quantity', 'UnitPrice', 'TotalSales', 'Date', 'Year', 'Quarter', 'Month']]\n",
    "\n",
    "# Save fact table\n",
    "sales_fact_table.to_sql('SalesFact', conn, if_exists='replace', index=False)\n",
    "\n",
    "conn.close()\n",
    "\n",
    "print(\"ETL process completed. Data loaded into SQLite database.\")\n"
   ]
  }
 ],
 "metadata": {
  "kernelspec": {
   "display_name": "Python 3",
   "language": "python",
   "name": "python3"
  },
  "language_info": {
   "codemirror_mode": {
    "name": "ipython",
    "version": 3
   },
   "file_extension": ".py",
   "mimetype": "text/x-python",
   "name": "python",
   "nbconvert_exporter": "python",
   "pygments_lexer": "ipython3",
   "version": "3.12.3"
  }
 },
 "nbformat": 4,
 "nbformat_minor": 5
}
