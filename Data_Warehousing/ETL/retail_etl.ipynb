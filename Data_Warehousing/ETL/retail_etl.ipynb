{
 "cells": [
  {
   "cell_type": "markdown",
   "id": "d9f6bc1d",
   "metadata": {},
   "source": [
    "## ETL Process"
   ]
  },
  {
   "cell_type": "code",
   "execution_count": 3,
   "id": "4bbad2f5",
   "metadata": {},
   "outputs": [],
   "source": [
    "# Import Libraries\n",
    "import pandas as pd\n",
    "import sqlite3\n",
    "from datetime import datetime\n"
   ]
  },
  {
   "cell_type": "markdown",
   "id": "aeef2fd5",
   "metadata": {},
   "source": [
    "### Extraction"
   ]
  },
  {
   "cell_type": "code",
   "execution_count": 11,
   "id": "3d1febca",
   "metadata": {},
   "outputs": [],
   "source": [
    "def extract_data(data_path):\n",
    "    import pandas as pd\n",
    "    df = pd.read_csv(data_path)\n",
    "    return df"
   ]
  },
  {
   "cell_type": "code",
   "execution_count": 14,
   "id": "e82650c6",
   "metadata": {},
   "outputs": [
    {
     "data": {
      "application/vnd.microsoft.datawrangler.viewer.v0+json": {
       "columns": [
        {
         "name": "index",
         "rawType": "int64",
         "type": "integer"
        },
        {
         "name": "Description",
         "rawType": "object",
         "type": "string"
        },
        {
         "name": "Quantity",
         "rawType": "int64",
         "type": "integer"
        },
        {
         "name": "InvoiceDate",
         "rawType": "object",
         "type": "string"
        },
        {
         "name": "UnitPrice",
         "rawType": "float64",
         "type": "float"
        },
        {
         "name": "CustomerID",
         "rawType": "float64",
         "type": "float"
        },
        {
         "name": "Country",
         "rawType": "object",
         "type": "string"
        }
       ],
       "ref": "e87d958e-cb73-45fd-a85e-9237ae26bda6",
       "rows": [
        [
         "0",
         "WHITE HANGING HEART T-LIGHT HOLDER",
         "6",
         "12/1/2010 8:26",
         "2.55",
         "17850.0",
         "United Kingdom"
        ],
        [
         "1",
         "WHITE METAL LANTERN",
         "6",
         "12/1/2010 8:26",
         "3.39",
         "17850.0",
         "United Kingdom"
        ],
        [
         "2",
         "CREAM CUPID HEARTS COAT HANGER",
         "8",
         "12/1/2010 8:26",
         "2.75",
         "17850.0",
         "United Kingdom"
        ],
        [
         "3",
         "KNITTED UNION FLAG HOT WATER BOTTLE",
         "6",
         "12/1/2010 8:26",
         "3.39",
         "17850.0",
         "United Kingdom"
        ],
        [
         "4",
         "RED WOOLLY HOTTIE WHITE HEART.",
         "6",
         "12/1/2010 8:26",
         "3.39",
         "17850.0",
         "United Kingdom"
        ]
       ],
       "shape": {
        "columns": 6,
        "rows": 5
       }
      },
      "text/html": [
       "<div>\n",
       "<style scoped>\n",
       "    .dataframe tbody tr th:only-of-type {\n",
       "        vertical-align: middle;\n",
       "    }\n",
       "\n",
       "    .dataframe tbody tr th {\n",
       "        vertical-align: top;\n",
       "    }\n",
       "\n",
       "    .dataframe thead th {\n",
       "        text-align: right;\n",
       "    }\n",
       "</style>\n",
       "<table border=\"1\" class=\"dataframe\">\n",
       "  <thead>\n",
       "    <tr style=\"text-align: right;\">\n",
       "      <th></th>\n",
       "      <th>Description</th>\n",
       "      <th>Quantity</th>\n",
       "      <th>InvoiceDate</th>\n",
       "      <th>UnitPrice</th>\n",
       "      <th>CustomerID</th>\n",
       "      <th>Country</th>\n",
       "    </tr>\n",
       "  </thead>\n",
       "  <tbody>\n",
       "    <tr>\n",
       "      <th>0</th>\n",
       "      <td>WHITE HANGING HEART T-LIGHT HOLDER</td>\n",
       "      <td>6</td>\n",
       "      <td>12/1/2010 8:26</td>\n",
       "      <td>2.55</td>\n",
       "      <td>17850.0</td>\n",
       "      <td>United Kingdom</td>\n",
       "    </tr>\n",
       "    <tr>\n",
       "      <th>1</th>\n",
       "      <td>WHITE METAL LANTERN</td>\n",
       "      <td>6</td>\n",
       "      <td>12/1/2010 8:26</td>\n",
       "      <td>3.39</td>\n",
       "      <td>17850.0</td>\n",
       "      <td>United Kingdom</td>\n",
       "    </tr>\n",
       "    <tr>\n",
       "      <th>2</th>\n",
       "      <td>CREAM CUPID HEARTS COAT HANGER</td>\n",
       "      <td>8</td>\n",
       "      <td>12/1/2010 8:26</td>\n",
       "      <td>2.75</td>\n",
       "      <td>17850.0</td>\n",
       "      <td>United Kingdom</td>\n",
       "    </tr>\n",
       "    <tr>\n",
       "      <th>3</th>\n",
       "      <td>KNITTED UNION FLAG HOT WATER BOTTLE</td>\n",
       "      <td>6</td>\n",
       "      <td>12/1/2010 8:26</td>\n",
       "      <td>3.39</td>\n",
       "      <td>17850.0</td>\n",
       "      <td>United Kingdom</td>\n",
       "    </tr>\n",
       "    <tr>\n",
       "      <th>4</th>\n",
       "      <td>RED WOOLLY HOTTIE WHITE HEART.</td>\n",
       "      <td>6</td>\n",
       "      <td>12/1/2010 8:26</td>\n",
       "      <td>3.39</td>\n",
       "      <td>17850.0</td>\n",
       "      <td>United Kingdom</td>\n",
       "    </tr>\n",
       "  </tbody>\n",
       "</table>\n",
       "</div>"
      ],
      "text/plain": [
       "                           Description  Quantity     InvoiceDate  UnitPrice  \\\n",
       "0   WHITE HANGING HEART T-LIGHT HOLDER         6  12/1/2010 8:26       2.55   \n",
       "1                  WHITE METAL LANTERN         6  12/1/2010 8:26       3.39   \n",
       "2       CREAM CUPID HEARTS COAT HANGER         8  12/1/2010 8:26       2.75   \n",
       "3  KNITTED UNION FLAG HOT WATER BOTTLE         6  12/1/2010 8:26       3.39   \n",
       "4       RED WOOLLY HOTTIE WHITE HEART.         6  12/1/2010 8:26       3.39   \n",
       "\n",
       "   CustomerID         Country  \n",
       "0     17850.0  United Kingdom  \n",
       "1     17850.0  United Kingdom  \n",
       "2     17850.0  United Kingdom  \n",
       "3     17850.0  United Kingdom  \n",
       "4     17850.0  United Kingdom  "
      ]
     },
     "execution_count": 14,
     "metadata": {},
     "output_type": "execute_result"
    }
   ],
   "source": [
    "# Define file path again\n",
    "data_path = r\"C:\\Users\\Admin\\OneDrive - United States International University (USIU)\\Documents\\USIU_A\\US2025\\DSA2040A\\Final Exam\\DSA_2040_Practical_Exam_Ambachow_550\\Data_Warehousing\\data\\online_retail.csv\"\n",
    "df = extract_data(data_path)\n",
    "df.head()"
   ]
  },
  {
   "cell_type": "markdown",
   "id": "4f45315c",
   "metadata": {},
   "source": [
    "#### Columns/Variables"
   ]
  },
  {
   "cell_type": "code",
   "execution_count": 7,
   "id": "dafc3fe2",
   "metadata": {},
   "outputs": [
    {
     "name": "stdout",
     "output_type": "stream",
     "text": [
      "Index(['Description', 'Quantity', 'InvoiceDate', 'UnitPrice', 'CustomerID',\n",
      "       'Country'],\n",
      "      dtype='object')\n",
      "<class 'pandas.core.frame.DataFrame'>\n",
      "RangeIndex: 541909 entries, 0 to 541908\n",
      "Data columns (total 6 columns):\n",
      " #   Column       Non-Null Count   Dtype  \n",
      "---  ------       --------------   -----  \n",
      " 0   Description  540455 non-null  object \n",
      " 1   Quantity     541909 non-null  int64  \n",
      " 2   InvoiceDate  541909 non-null  object \n",
      " 3   UnitPrice    541909 non-null  float64\n",
      " 4   CustomerID   406829 non-null  float64\n",
      " 5   Country      541909 non-null  object \n",
      "dtypes: float64(2), int64(1), object(3)\n",
      "memory usage: 24.8+ MB\n",
      "None\n"
     ]
    }
   ],
   "source": [
    "print(df.columns)\n",
    "print(df.info())"
   ]
  },
  {
   "cell_type": "markdown",
   "id": "bed3dfa3",
   "metadata": {},
   "source": [
    "### Wrangle function for Transformation process"
   ]
  },
  {
   "cell_type": "code",
   "execution_count": 16,
   "id": "61b6ffdb",
   "metadata": {},
   "outputs": [],
   "source": [
    "import pandas as pd\n",
    "import numpy as np\n",
    "\n",
    "def transform_data(df):\n",
    "    \"\"\"\n",
    "    Cleans and transforms retail sales data based on column-specific rules.\n",
    "    \"\"\"\n",
    "    \n",
    "    # ------------------------------\n",
    "    # 1. Object (string) Columns\n",
    "    # ------------------------------\n",
    "    if 'Description' in df.columns:\n",
    "        df['Description'] = df['Description'].fillna(\"Unknown Product\") \\\n",
    "                                             .str.strip().str.lower()\n",
    "    \n",
    "    if 'Country' in df.columns:\n",
    "        df['Country'] = df['Country'].fillna(\"Unknown Country\") \\\n",
    "                                     .str.strip().str.title()\n",
    "    \n",
    "    # ------------------------------\n",
    "    # 2. Quantity (Integer)\n",
    "    # ------------------------------\n",
    "    if 'Quantity' in df.columns:\n",
    "        df = df[df['Quantity'].notnull()]  # remove missing quantity\n",
    "        df = df[df['Quantity'] > 0]        # remove invalid (<= 0) quantities\n",
    "        df['Quantity'] = df['Quantity'].astype(int)\n",
    "    \n",
    "    # ------------------------------\n",
    "    # 3. InvoiceDate (DateTime)\n",
    "    # ------------------------------\n",
    "    if 'InvoiceDate' in df.columns:\n",
    "        df['InvoiceDate'] = pd.to_datetime(df['InvoiceDate'], errors='coerce')\n",
    "        df = df[df['InvoiceDate'].notnull()]  # remove invalid dates\n",
    "        \n",
    "        # Extract useful date parts\n",
    "        df['InvoiceYear'] = df['InvoiceDate'].dt.year\n",
    "        df['InvoiceMonth'] = df['InvoiceDate'].dt.month\n",
    "        df['InvoiceDay'] = df['InvoiceDate'].dt.day\n",
    "        df['InvoiceQuarter'] = df['InvoiceDate'].dt.quarter\n",
    "    \n",
    "    # ------------------------------\n",
    "    # 4. UnitPrice (Float)\n",
    "    # ------------------------------\n",
    "    if 'UnitPrice' in df.columns:\n",
    "        df = df[df['UnitPrice'].notnull()]  # remove missing prices\n",
    "        df = df[df['UnitPrice'] > 0]        # remove invalid prices\n",
    "        df['UnitPrice'] = df['UnitPrice'].astype(float)\n",
    "    \n",
    "    # ------------------------------\n",
    "    # 5. CustomerID (Integer/String)\n",
    "    # ------------------------------\n",
    "    if 'CustomerID' in df.columns:\n",
    "        df['CustomerID'] = df['CustomerID'].fillna(\"Unknown Customer\")\n",
    "        df['CustomerID'] = df['CustomerID'].astype(str).str.strip()\n",
    "    \n",
    "    return df\n"
   ]
  },
  {
   "cell_type": "markdown",
   "id": "ebd912f2",
   "metadata": {},
   "source": [
    "#### Usage of wrangle function"
   ]
  },
  {
   "cell_type": "code",
   "execution_count": 17,
   "id": "2ca35a4c",
   "metadata": {},
   "outputs": [],
   "source": [
    "df_clean = transform_data(df)"
   ]
  },
  {
   "cell_type": "markdown",
   "id": "f77b3c07",
   "metadata": {},
   "source": [
    "###     Load\n"
   ]
  },
  {
   "cell_type": "code",
   "execution_count": 18,
   "id": "c3c9c152",
   "metadata": {},
   "outputs": [],
   "source": [
    "def load_data_to_sqlite(df, db_path):\n",
    "    import sqlite3\n",
    "    conn = sqlite3.connect(db_path)\n",
    "    df.to_sql('SalesFact', conn, if_exists='replace', index=False)\n",
    "    conn.commit()\n",
    "    conn.close()\n",
    "    print(f\"Loaded {len(df)} rows into {db_path}\")"
   ]
  },
  {
   "cell_type": "code",
   "execution_count": 19,
   "id": "7e105073",
   "metadata": {},
   "outputs": [
    {
     "name": "stdout",
     "output_type": "stream",
     "text": [
      "Loaded 530104 rows into C:\\Users\\Admin\\OneDrive - United States International University (USIU)\\Documents\\USIU_A\\US2025\\DSA2040A\\Final Exam\\DSA_2040_Practical_Exam_Ambachow_550\\Data_Warehousing\\design\\retail_dw.db\n"
     ]
    }
   ],
   "source": [
    "db_path = r'C:\\Users\\Admin\\OneDrive - United States International University (USIU)\\Documents\\USIU_A\\US2025\\DSA2040A\\Final Exam\\DSA_2040_Practical_Exam_Ambachow_550\\Data_Warehousing\\design\\retail_dw.db'\n",
    "\n",
    "load_data_to_sqlite(df_clean, db_path=db_path)\n"
   ]
  }
 ],
 "metadata": {
  "kernelspec": {
   "display_name": "Python 3",
   "language": "python",
   "name": "python3"
  },
  "language_info": {
   "codemirror_mode": {
    "name": "ipython",
    "version": 3
   },
   "file_extension": ".py",
   "mimetype": "text/x-python",
   "name": "python",
   "nbconvert_exporter": "python",
   "pygments_lexer": "ipython3",
   "version": "3.12.3"
  }
 },
 "nbformat": 4,
 "nbformat_minor": 5
}
