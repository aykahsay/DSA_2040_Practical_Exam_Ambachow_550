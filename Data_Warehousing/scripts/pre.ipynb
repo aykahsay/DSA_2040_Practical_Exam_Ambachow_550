{
 "cells": [
  {
   "cell_type": "markdown",
   "id": "3b6a6776",
   "metadata": {},
   "source": [
    "### Data Download"
   ]
  },
  {
   "cell_type": "code",
   "execution_count": null,
   "id": "8abfc3dc",
   "metadata": {},
   "outputs": [],
   "source": [
    "pip install ucimlrepo"
   ]
  },
  {
   "cell_type": "code",
   "execution_count": 4,
   "id": "0c149979",
   "metadata": {},
   "outputs": [],
   "source": [
    "from ucimlrepo import fetch_ucirepo \n",
    "  \n",
    "# fetch dataset \n",
    "online_retail = fetch_ucirepo(id=352) \n",
    "  \n",
    "# data (as pandas dataframes) \n",
    "X = online_retail.data.features \n",
    "y = online_retail.data.targets \n",
    " "
   ]
  },
  {
   "cell_type": "code",
   "execution_count": 5,
   "id": "e1be54e3",
   "metadata": {},
   "outputs": [
    {
     "name": "stdout",
     "output_type": "stream",
     "text": [
      "Data saved to: C:\\Users\\Admin\\OneDrive - United States International University (USIU)\\Documents\\USIU_A\\US2025\\DSA2040A\\Final Exam\\DSA_2040_Practical_Exam_Ambachow_550\\Data_Warehousing\\data\\online_retail.csv\n"
     ]
    }
   ],
   "source": [
    "# Combine features and targets if targets exist\n",
    "if y is not None and not y.empty:\n",
    "    df = pd.concat([X, y], axis=1)\n",
    "else:\n",
    "    df = X\n",
    "\n",
    "# Define save path (use raw string for Windows path)\n",
    "save_path = r\"C:\\Users\\Admin\\OneDrive - United States International University (USIU)\\Documents\\USIU_A\\US2025\\DSA2040A\\Final Exam\\DSA_2040_Practical_Exam_Ambachow_550\\Data_Warehousing\\data\\online_retail.csv\"\n",
    "\n",
    "# Save to CSV without index\n",
    "df.to_csv(save_path, index=False)\n",
    "\n",
    "print(f\"Data saved to: {save_path}\")"
   ]
  },
  {
   "cell_type": "code",
   "execution_count": null,
   "id": "0673a28c",
   "metadata": {},
   "outputs": [],
   "source": [
    "# Define the save path\n",
    "save_path = r\"C:\\Users\\Admin\\OneDrive - United States International University (USIU)\\Documents\\USIU_A\\US2025\\DSA2040A\\Final Exam\\DSA_2040_Practical_Exam_Ambachow_550\\Data_Warehousing\\data\\online_retail.csv\"\n",
    "\n",
    "# Save to CSV\n",
    "df.to_csv(save_path, index=False)\n",
    "\n",
    "print(f\"Data saved to: {save_path}\")"
   ]
  }
 ],
 "metadata": {
  "kernelspec": {
   "display_name": "Python 3",
   "language": "python",
   "name": "python3"
  },
  "language_info": {
   "codemirror_mode": {
    "name": "ipython",
    "version": 3
   },
   "file_extension": ".py",
   "mimetype": "text/x-python",
   "name": "python",
   "nbconvert_exporter": "python",
   "pygments_lexer": "ipython3",
   "version": "3.12.3"
  }
 },
 "nbformat": 4,
 "nbformat_minor": 5
}
